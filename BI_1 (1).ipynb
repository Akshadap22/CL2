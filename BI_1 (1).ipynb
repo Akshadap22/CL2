{
  "nbformat": 4,
  "nbformat_minor": 0,
  "metadata": {
    "colab": {
      "provenance": []
    },
    "kernelspec": {
      "name": "python3",
      "display_name": "Python 3"
    },
    "language_info": {
      "name": "python"
    }
  },
  "cells": [
    {
      "cell_type": "code",
      "execution_count": null,
      "metadata": {
        "colab": {
          "base_uri": "https://localhost:8080/"
        },
        "id": "GSOCTJz6bWzI",
        "outputId": "7f5774e3-7f8e-4a9a-b22f-1eaa74015edd"
      },
      "outputs": [
        {
          "output_type": "stream",
          "name": "stdout",
          "text": [
            "Enter a DNA sequence: attcaattccaaagcgcttcaatacttttaaatctcagctagtgagggactgaagcctcc aagtctgcattatgttctttgaaattaacgttctcctcgg\n",
            "Motifs found: [71]\n",
            "GC content: 0.39603960396039606\n",
            "Coding regions: [(0, 3), (3, 6), (6, 9), (9, 12), (12, 15), (15, 18), (18, 21), (21, 24), (24, 27), (27, 30), (30, 33), (33, 36), (36, 39), (45, 48), (48, 51), (51, 54), (54, 57), (57, 60), (60, 63), (63, 66), (66, 69), (69, 72), (72, 75), (75, 78), (78, 81), (81, 84), (84, 87), (87, 90), (90, 93), (93, 96), (96, 99), (99, 102)]\n"
          ]
        }
      ],
      "source": [
        "import re\n",
        "\n",
        "def find_motifs(sequence, motif):\n",
        "  \"\"\"Finds all occurrences of a given motif in a DNA sequence.\n",
        "\n",
        "  Args:\n",
        "    sequence: A string representing the DNA sequence.\n",
        "    motif: A string representing the motif to search for.\n",
        "\n",
        "  Returns:\n",
        "    A list of all start positions of the motif in the sequence.\n",
        "  \"\"\"\n",
        "\n",
        "  matches = []\n",
        "  for i in range(len(sequence) - len(motif) + 1):\n",
        "    if sequence[i:i + len(motif)] == motif:\n",
        "      matches.append(i)\n",
        "  return matches\n",
        "\n",
        "def calculate_gc_content(sequence):\n",
        "  \"\"\"Calculates the GC content of a DNA sequence.\n",
        "\n",
        "  Args:\n",
        "    sequence: A string representing the DNA sequence.\n",
        "\n",
        "  Returns:\n",
        "    The GC content of the sequence as a float.\n",
        "  \"\"\"\n",
        "\n",
        "  gc_count = 0\n",
        "  for base in sequence:\n",
        "    if base == \"g\" or base == \"c\":\n",
        "      gc_count += 1\n",
        "  return gc_count / float(len(sequence))\n",
        "\n",
        "def identify_coding_regions(sequence):\n",
        "  \"\"\"Identifies the coding regions of a DNA sequence.\n",
        "\n",
        "  Args:\n",
        "    sequence: A string representing the DNA sequence.\n",
        "\n",
        "  Returns:\n",
        "    A list of all start and end positions of the coding regions in the sequence.\n",
        "  \"\"\"\n",
        "\n",
        "  coding_regions = []\n",
        "  for i in range(0, len(sequence), 3):\n",
        "    codon = sequence[i:i + 3]\n",
        "    if codon not in [\"tga\", \"taa\", \"tag\"]:\n",
        "      coding_regions.append((i, i + 3))\n",
        "  return coding_regions\n",
        "\n",
        "def main():\n",
        "  \"\"\"Analyzes a given DNA sequence and performs basic sequence manipulation.\"\"\"\n",
        "\n",
        "  # Get the DNA sequence from the user.\n",
        "  sequence = input(\"Enter a DNA sequence: \")\n",
        "\n",
        "  # Find the motifs in the sequence.\n",
        "  motifs = find_motifs(sequence, \"tat\")\n",
        "\n",
        "  # Calculate the GC content of the sequence.\n",
        "  gc_content = calculate_gc_content(sequence)\n",
        "\n",
        "  # Identify the coding regions of the sequence.\n",
        "  coding_regions = identify_coding_regions(sequence)\n",
        "\n",
        "  # Print the results to the console.\n",
        "  print(\"Motifs found:\", motifs)\n",
        "  print(\"GC content:\", gc_content)\n",
        "  print(\"Coding regions:\", coding_regions)\n",
        "\n",
        "if __name__ == \"__main__\":\n",
        "  main()\n"
      ]
    },
    {
      "cell_type": "code",
      "source": [],
      "metadata": {
        "id": "XJvh8E30T1xi"
      },
      "execution_count": null,
      "outputs": []
    }
  ]
}